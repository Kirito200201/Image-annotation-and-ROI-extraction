{
 "cells": [
  {
   "cell_type": "markdown",
   "metadata": {},
   "source": [
    "Importing openCV library"
   ]
  },
  {
   "cell_type": "code",
   "execution_count": 1,
   "metadata": {},
   "outputs": [],
   "source": [
    "import cv2"
   ]
  },
  {
   "cell_type": "markdown",
   "metadata": {},
   "source": [
    "Initializes an empty list to store the coordinates of bounding boxes drawn by the user."
   ]
  },
  {
   "cell_type": "code",
   "execution_count": 2,
   "metadata": {},
   "outputs": [],
   "source": [
    "bounding_boxes = []"
   ]
  },
  {
   "cell_type": "markdown",
   "metadata": {},
   "source": [
    "Defines a function named draw which will serve as the callback function for mouse events."
   ]
  },
  {
   "cell_type": "code",
   "execution_count": 4,
   "metadata": {},
   "outputs": [],
   "source": [
    "def draw(event, x, y, flags, param):\n",
    "    global img, img_copy, bounding_boxes # Declares that the function will modify global variables img, img_copy, and bounding_boxes.\n",
    "\n",
    "    # Checks if the left mouse button is pressed.\n",
    "    if event == cv2.EVENT_LBUTTONDOWN:\n",
    "        bounding_boxes.append([(x, y)]) \n",
    "    # If the left mouse button is pressed, it appends the current mouse position (x, y) to the bounding_boxes list as the starting point of a bounding box.\n",
    "    \n",
    "    elif event == cv2.EVENT_MOUSEMOVE: # Checks if the mouse is moved.\n",
    "        if bounding_boxes: # Checks if there are any bounding boxes being drawn.\n",
    "            temp_img = img_copy.copy()  # Creates a temporary copy of the original image to draw bounding boxes on.\n",
    "            for box in bounding_boxes:\n",
    "                if len(box) == 1: # Checks if only one point has been added to the bounding box.\n",
    "                    ix, iy = box[0]\n",
    "                    cv2.rectangle(temp_img, (ix, iy), (x, y), (0, 0, 255), 1) # Draws a rectangle on the temporary image from the starting point to the current mouse position.\n",
    "                else:\n",
    "                    #Draws a rectangle on the temporary image from the starting point to the ending point of the bounding box.\n",
    "                    ix, iy = box[0]\n",
    "                    end_x, end_y = box[-1]\n",
    "                    cv2.rectangle(temp_img, (ix, iy), (end_x, end_y), (0, 0, 255), 1)\n",
    "            cv2.imshow('image', temp_img) # Displays the temporary image with bounding boxes.\n",
    "\n",
    "    elif event == cv2.EVENT_LBUTTONUP: # Checks if the left mouse button is released.\n",
    "        if bounding_boxes: # Checks if there are any bounding boxes being drawn.\n",
    "            bounding_boxes[-1].append((x, y)) \n",
    "            temp_img = img.copy() \n",
    "            for box in bounding_boxes:\n",
    "                ix, iy = box[0]\n",
    "                end_x, end_y = box[-1]\n",
    "                cv2.rectangle(temp_img, (ix, iy), (end_x, end_y), (0, 0, 255), 1)  \n",
    "            cv2.imshow('image', temp_img)"
   ]
  },
  {
   "cell_type": "markdown",
   "metadata": {},
   "source": [
    "Reads an image named 'Blocks_1.tif'"
   ]
  },
  {
   "cell_type": "code",
   "execution_count": 5,
   "metadata": {},
   "outputs": [],
   "source": [
    "img = cv2.imread('Blocks_1.tif')\n",
    "img_copy = img.copy()\n",
    "\n",
    "cv2.namedWindow('image')\n",
    "cv2.setMouseCallback('image', draw)\n",
    "\n",
    "while 1:\n",
    "    cv2.imshow('image', img)\n",
    "    k = cv2.waitKey(1) & 0xFF # Exit window with \" Esc \" key\n",
    "    if k == 27:\n",
    "        break\n",
    "    elif k == ord('s'): # save when \" S \" pressed \n",
    "        for i, bbox in enumerate(bounding_boxes):\n",
    "            if len(bbox) == 2:\n",
    "                ix, iy = bbox[0]\n",
    "                end_x, end_y = bbox[1]\n",
    "                roi = img_copy[iy:end_y, ix:end_x]\n",
    "                cv2.imwrite(f'selected_image_{i+1}.png', roi)\n",
    "                print(f'Selected image {i+1} saved as selected_image_{i+1}.png')\n",
    "        bounding_boxes = [] \n",
    "\n",
    "cv2.destroyAllWindows()"
   ]
  }
 ],
 "metadata": {
  "kernelspec": {
   "display_name": "sliit",
   "language": "python",
   "name": "python3"
  },
  "language_info": {
   "codemirror_mode": {
    "name": "ipython",
    "version": 3
   },
   "file_extension": ".py",
   "mimetype": "text/x-python",
   "name": "python",
   "nbconvert_exporter": "python",
   "pygments_lexer": "ipython3",
   "version": "3.10.13"
  }
 },
 "nbformat": 4,
 "nbformat_minor": 2
}
